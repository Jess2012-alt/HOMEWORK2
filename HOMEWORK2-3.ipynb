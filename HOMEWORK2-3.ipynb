{
 "cells": [
  {
   "cell_type": "markdown",
   "id": "2b28efbf",
   "metadata": {},
   "source": [
    "HOMEWORK 2"
   ]
  },
  {
   "cell_type": "code",
   "execution_count": 141,
   "id": "28000a1d",
   "metadata": {
    "scrolled": true
   },
   "outputs": [
    {
     "data": {
      "text/plain": [
       "<bound method NDFrame.head of       mpg  cylinders  displacement horsepower  weight  acceleration  year  \\\n",
       "0    18.0          8         307.0        130    3504          12.0    70   \n",
       "1    15.0          8         350.0        165    3693          11.5    70   \n",
       "2    18.0          8         318.0        150    3436          11.0    70   \n",
       "3    16.0          8         304.0        150    3433          12.0    70   \n",
       "4    17.0          8         302.0        140    3449          10.5    70   \n",
       "..    ...        ...           ...        ...     ...           ...   ...   \n",
       "392  27.0          4         140.0         86    2790          15.6    82   \n",
       "393  44.0          4          97.0         52    2130          24.6    82   \n",
       "394  32.0          4         135.0         84    2295          11.6    82   \n",
       "395  28.0          4         120.0         79    2625          18.6    82   \n",
       "396  31.0          4         119.0         82    2720          19.4    82   \n",
       "\n",
       "     origin                       name  \n",
       "0         1  chevrolet chevelle malibu  \n",
       "1         1          buick skylark 320  \n",
       "2         1         plymouth satellite  \n",
       "3         1              amc rebel sst  \n",
       "4         1                ford torino  \n",
       "..      ...                        ...  \n",
       "392       1            ford mustang gl  \n",
       "393       2                  vw pickup  \n",
       "394       1              dodge rampage  \n",
       "395       1                ford ranger  \n",
       "396       1                 chevy s-10  \n",
       "\n",
       "[397 rows x 9 columns]>"
      ]
     },
     "execution_count": 141,
     "metadata": {},
     "output_type": "execute_result"
    }
   ],
   "source": [
    "# Setup\n",
    "# import packages\n",
    "import pandas as pd\n",
    "import numpy as np\n",
    "import seaborn as sns\n",
    "\n",
    "import matplotlib as plot\n",
    "import matplotlib.mlab as mlab\n",
    "import matplotlib\n",
    "import random as rnd\n",
    "from sklearn import datasets, linear_model\n",
    "from sklearn import preprocessing\n",
    "from sklearn.feature_selection import RFE\n",
    "import socket\n",
    "from socket import socket\n",
    "import statsmodels.api as sm\n",
    "\n",
    "import seaborn as sns; sns.set()\n",
    "import matplotlib.pyplot as plt\n",
    "from mpl_toolkits.mplot3d import Axes3D\n",
    "import statsmodels.api as sm\n",
    "import statsmodels.formula.api as smf\n",
    "import patsy\n",
    "from scipy import stats\n",
    "from sklearn import datasets\n",
    "from IPython.display import display, HTML\n",
    "\n",
    "Auto=pd.read_csv(\"Auto.data\")\n",
    "Auto.head()\n",
    "\n",
    "Auto2=pd.read_csv(\"Auto.csv\")\n",
    "Auto2.head\n",
    "\n"
   ]
  },
  {
   "cell_type": "code",
   "execution_count": null,
   "id": "56ef65a8",
   "metadata": {},
   "outputs": [],
   "source": [
    "Q2: Carefully explain the differences between the KNN classifier and KNN regression methods.\n",
    "\n",
    "    \n",
    "   I discovered many similarities between these two approaches and relatively few noteworthy differences while analyzing them.\n",
    "One of them was that the KNN classifier aimed to forecast probability, while the KNN regression sought to forecast average.\n",
    "And because both approaches are quantitative, as was already mentioned, there aren't many variations between them. \n",
    "As you are attempting to match percentages, the regression method would be more time-effective for this particular issue because it works better with predictor values."
   ]
  },
  {
   "cell_type": "code",
   "execution_count": null,
   "id": "411a99fc",
   "metadata": {},
   "outputs": [],
   "source": [
    "Q9: This question involves the use of multiple linear regression on the Auto data set.\n",
    "    (a) Produce a scatterplot matrix which includes all of the variables in the data set."
   ]
  },
  {
   "cell_type": "code",
   "execution_count": 117,
   "id": "fecddf14",
   "metadata": {},
   "outputs": [
    {
     "data": {
      "text/plain": [
       "array([[<AxesSubplot:xlabel='mpg', ylabel='mpg'>,\n",
       "        <AxesSubplot:xlabel='cylinders', ylabel='mpg'>,\n",
       "        <AxesSubplot:xlabel='displacement', ylabel='mpg'>,\n",
       "        <AxesSubplot:xlabel='weight', ylabel='mpg'>,\n",
       "        <AxesSubplot:xlabel='acceleration', ylabel='mpg'>,\n",
       "        <AxesSubplot:xlabel='year', ylabel='mpg'>,\n",
       "        <AxesSubplot:xlabel='origin', ylabel='mpg'>],\n",
       "       [<AxesSubplot:xlabel='mpg', ylabel='cylinders'>,\n",
       "        <AxesSubplot:xlabel='cylinders', ylabel='cylinders'>,\n",
       "        <AxesSubplot:xlabel='displacement', ylabel='cylinders'>,\n",
       "        <AxesSubplot:xlabel='weight', ylabel='cylinders'>,\n",
       "        <AxesSubplot:xlabel='acceleration', ylabel='cylinders'>,\n",
       "        <AxesSubplot:xlabel='year', ylabel='cylinders'>,\n",
       "        <AxesSubplot:xlabel='origin', ylabel='cylinders'>],\n",
       "       [<AxesSubplot:xlabel='mpg', ylabel='displacement'>,\n",
       "        <AxesSubplot:xlabel='cylinders', ylabel='displacement'>,\n",
       "        <AxesSubplot:xlabel='displacement', ylabel='displacement'>,\n",
       "        <AxesSubplot:xlabel='weight', ylabel='displacement'>,\n",
       "        <AxesSubplot:xlabel='acceleration', ylabel='displacement'>,\n",
       "        <AxesSubplot:xlabel='year', ylabel='displacement'>,\n",
       "        <AxesSubplot:xlabel='origin', ylabel='displacement'>],\n",
       "       [<AxesSubplot:xlabel='mpg', ylabel='weight'>,\n",
       "        <AxesSubplot:xlabel='cylinders', ylabel='weight'>,\n",
       "        <AxesSubplot:xlabel='displacement', ylabel='weight'>,\n",
       "        <AxesSubplot:xlabel='weight', ylabel='weight'>,\n",
       "        <AxesSubplot:xlabel='acceleration', ylabel='weight'>,\n",
       "        <AxesSubplot:xlabel='year', ylabel='weight'>,\n",
       "        <AxesSubplot:xlabel='origin', ylabel='weight'>],\n",
       "       [<AxesSubplot:xlabel='mpg', ylabel='acceleration'>,\n",
       "        <AxesSubplot:xlabel='cylinders', ylabel='acceleration'>,\n",
       "        <AxesSubplot:xlabel='displacement', ylabel='acceleration'>,\n",
       "        <AxesSubplot:xlabel='weight', ylabel='acceleration'>,\n",
       "        <AxesSubplot:xlabel='acceleration', ylabel='acceleration'>,\n",
       "        <AxesSubplot:xlabel='year', ylabel='acceleration'>,\n",
       "        <AxesSubplot:xlabel='origin', ylabel='acceleration'>],\n",
       "       [<AxesSubplot:xlabel='mpg', ylabel='year'>,\n",
       "        <AxesSubplot:xlabel='cylinders', ylabel='year'>,\n",
       "        <AxesSubplot:xlabel='displacement', ylabel='year'>,\n",
       "        <AxesSubplot:xlabel='weight', ylabel='year'>,\n",
       "        <AxesSubplot:xlabel='acceleration', ylabel='year'>,\n",
       "        <AxesSubplot:xlabel='year', ylabel='year'>,\n",
       "        <AxesSubplot:xlabel='origin', ylabel='year'>],\n",
       "       [<AxesSubplot:xlabel='mpg', ylabel='origin'>,\n",
       "        <AxesSubplot:xlabel='cylinders', ylabel='origin'>,\n",
       "        <AxesSubplot:xlabel='displacement', ylabel='origin'>,\n",
       "        <AxesSubplot:xlabel='weight', ylabel='origin'>,\n",
       "        <AxesSubplot:xlabel='acceleration', ylabel='origin'>,\n",
       "        <AxesSubplot:xlabel='year', ylabel='origin'>,\n",
       "        <AxesSubplot:xlabel='origin', ylabel='origin'>]], dtype=object)"
      ]
     },
     "execution_count": 117,
     "metadata": {},
     "output_type": "execute_result"
    },
    {
     "data": {
      "image/png": "[encoded data removed]",
      "text/plain": [
       "<Figure size 432x288 with 49 Axes>"
      ]
     },
     "metadata": {
      "needs_background": "light"
     },
     "output_type": "display_data"
    }
   ],
   "source": [
    "pd.plotting.scatter_matrix(Auto2, color='red', hist_kwds={'bins':30, 'color':'blue'})\n",
    "  \n"
   ]
  },
  {
   "cell_type": "code",
   "execution_count": null,
   "id": "8d18ed6d",
   "metadata": {},
   "outputs": [],
   "source": [
    "(b) Compute the matrix of correlations between the variables using the function corr(). You will need to exclude the name variable, which is qualitative."
   ]
  },
  {
   "cell_type": "code",
   "execution_count": 118,
   "id": "14ff0943",
   "metadata": {},
   "outputs": [
    {
     "data": {
      "text/html": [
       "<div>\n",
       "<style scoped>\n",
       "    .dataframe tbody tr th:only-of-type {\n",
       "        vertical-align: middle;\n",
       "    }\n",
       "\n",
       "    .dataframe tbody tr th {\n",
       "        vertical-align: top;\n",
       "    }\n",
       "\n",
       "    .dataframe thead th {\n",
       "        text-align: right;\n",
       "    }\n",
       "</style>\n",
       "<table border=\"1\" class=\"dataframe\">\n",
       "  <thead>\n",
       "    <tr style=\"text-align: right;\">\n",
       "      <th></th>\n",
       "      <th>mpg</th>\n",
       "      <th>cylinders</th>\n",
       "      <th>displacement</th>\n",
       "      <th>weight</th>\n",
       "      <th>acceleration</th>\n",
       "      <th>year</th>\n",
       "      <th>origin</th>\n",
       "    </tr>\n",
       "  </thead>\n",
       "  <tbody>\n",
       "    <tr>\n",
       "      <th>mpg</th>\n",
       "      <td>1.000000</td>\n",
       "      <td>-0.776260</td>\n",
       "      <td>-0.804443</td>\n",
       "      <td>-0.831739</td>\n",
       "      <td>0.422297</td>\n",
       "      <td>0.581469</td>\n",
       "      <td>0.563698</td>\n",
       "    </tr>\n",
       "    <tr>\n",
       "      <th>cylinders</th>\n",
       "      <td>-0.776260</td>\n",
       "      <td>1.000000</td>\n",
       "      <td>0.950920</td>\n",
       "      <td>0.897017</td>\n",
       "      <td>-0.504061</td>\n",
       "      <td>-0.346717</td>\n",
       "      <td>-0.564972</td>\n",
       "    </tr>\n",
       "    <tr>\n",
       "      <th>displacement</th>\n",
       "      <td>-0.804443</td>\n",
       "      <td>0.950920</td>\n",
       "      <td>1.000000</td>\n",
       "      <td>0.933104</td>\n",
       "      <td>-0.544162</td>\n",
       "      <td>-0.369804</td>\n",
       "      <td>-0.610664</td>\n",
       "    </tr>\n",
       "    <tr>\n",
       "      <th>weight</th>\n",
       "      <td>-0.831739</td>\n",
       "      <td>0.897017</td>\n",
       "      <td>0.933104</td>\n",
       "      <td>1.000000</td>\n",
       "      <td>-0.419502</td>\n",
       "      <td>-0.307900</td>\n",
       "      <td>-0.581265</td>\n",
       "    </tr>\n",
       "    <tr>\n",
       "      <th>acceleration</th>\n",
       "      <td>0.422297</td>\n",
       "      <td>-0.504061</td>\n",
       "      <td>-0.544162</td>\n",
       "      <td>-0.419502</td>\n",
       "      <td>1.000000</td>\n",
       "      <td>0.282901</td>\n",
       "      <td>0.210084</td>\n",
       "    </tr>\n",
       "    <tr>\n",
       "      <th>year</th>\n",
       "      <td>0.581469</td>\n",
       "      <td>-0.346717</td>\n",
       "      <td>-0.369804</td>\n",
       "      <td>-0.307900</td>\n",
       "      <td>0.282901</td>\n",
       "      <td>1.000000</td>\n",
       "      <td>0.184314</td>\n",
       "    </tr>\n",
       "    <tr>\n",
       "      <th>origin</th>\n",
       "      <td>0.563698</td>\n",
       "      <td>-0.564972</td>\n",
       "      <td>-0.610664</td>\n",
       "      <td>-0.581265</td>\n",
       "      <td>0.210084</td>\n",
       "      <td>0.184314</td>\n",
       "      <td>1.000000</td>\n",
       "    </tr>\n",
       "  </tbody>\n",
       "</table>\n",
       "</div>"
      ],
      "text/plain": [
       "                   mpg  cylinders  displacement    weight  acceleration  \\\n",
       "mpg           1.000000  -0.776260     -0.804443 -0.831739      0.422297   \n",
       "cylinders    -0.776260   1.000000      0.950920  0.897017     -0.504061   \n",
       "displacement -0.804443   0.950920      1.000000  0.933104     -0.544162   \n",
       "weight       -0.831739   0.897017      0.933104  1.000000     -0.419502   \n",
       "acceleration  0.422297  -0.504061     -0.544162 -0.419502      1.000000   \n",
       "year          0.581469  -0.346717     -0.369804 -0.307900      0.282901   \n",
       "origin        0.563698  -0.564972     -0.610664 -0.581265      0.210084   \n",
       "\n",
       "                  year    origin  \n",
       "mpg           0.581469  0.563698  \n",
       "cylinders    -0.346717 -0.564972  \n",
       "displacement -0.369804 -0.610664  \n",
       "weight       -0.307900 -0.581265  \n",
       "acceleration  0.282901  0.210084  \n",
       "year          1.000000  0.184314  \n",
       "origin        0.184314  1.000000  "
      ]
     },
     "execution_count": 118,
     "metadata": {},
     "output_type": "execute_result"
    }
   ],
   "source": [
    "Auto2.corr()"
   ]
  },
  {
   "cell_type": "code",
   "execution_count": 119,
   "id": "041867a6",
   "metadata": {},
   "outputs": [
    {
     "data": {
      "text/html": [
       "<div>\n",
       "<style scoped>\n",
       "    .dataframe tbody tr th:only-of-type {\n",
       "        vertical-align: middle;\n",
       "    }\n",
       "\n",
       "    .dataframe tbody tr th {\n",
       "        vertical-align: top;\n",
       "    }\n",
       "\n",
       "    .dataframe thead th {\n",
       "        text-align: right;\n",
       "    }\n",
       "</style>\n",
       "<table border=\"1\" class=\"dataframe\">\n",
       "  <thead>\n",
       "    <tr style=\"text-align: right;\">\n",
       "      <th></th>\n",
       "      <th>mpg</th>\n",
       "      <th>cylinders</th>\n",
       "      <th>displacement</th>\n",
       "      <th>horsepower</th>\n",
       "      <th>weight</th>\n",
       "      <th>acceleration</th>\n",
       "      <th>year</th>\n",
       "      <th>origin</th>\n",
       "    </tr>\n",
       "  </thead>\n",
       "  <tbody>\n",
       "    <tr>\n",
       "      <th>0</th>\n",
       "      <td>18.0</td>\n",
       "      <td>8</td>\n",
       "      <td>307.0</td>\n",
       "      <td>130</td>\n",
       "      <td>3504</td>\n",
       "      <td>12.0</td>\n",
       "      <td>70</td>\n",
       "      <td>1</td>\n",
       "    </tr>\n",
       "    <tr>\n",
       "      <th>1</th>\n",
       "      <td>15.0</td>\n",
       "      <td>8</td>\n",
       "      <td>350.0</td>\n",
       "      <td>165</td>\n",
       "      <td>3693</td>\n",
       "      <td>11.5</td>\n",
       "      <td>70</td>\n",
       "      <td>1</td>\n",
       "    </tr>\n",
       "    <tr>\n",
       "      <th>2</th>\n",
       "      <td>18.0</td>\n",
       "      <td>8</td>\n",
       "      <td>318.0</td>\n",
       "      <td>150</td>\n",
       "      <td>3436</td>\n",
       "      <td>11.0</td>\n",
       "      <td>70</td>\n",
       "      <td>1</td>\n",
       "    </tr>\n",
       "    <tr>\n",
       "      <th>3</th>\n",
       "      <td>16.0</td>\n",
       "      <td>8</td>\n",
       "      <td>304.0</td>\n",
       "      <td>150</td>\n",
       "      <td>3433</td>\n",
       "      <td>12.0</td>\n",
       "      <td>70</td>\n",
       "      <td>1</td>\n",
       "    </tr>\n",
       "    <tr>\n",
       "      <th>4</th>\n",
       "      <td>17.0</td>\n",
       "      <td>8</td>\n",
       "      <td>302.0</td>\n",
       "      <td>140</td>\n",
       "      <td>3449</td>\n",
       "      <td>10.5</td>\n",
       "      <td>70</td>\n",
       "      <td>1</td>\n",
       "    </tr>\n",
       "  </tbody>\n",
       "</table>\n",
       "</div>"
      ],
      "text/plain": [
       "    mpg  cylinders  displacement horsepower  weight  acceleration  year  \\\n",
       "0  18.0          8         307.0        130    3504          12.0    70   \n",
       "1  15.0          8         350.0        165    3693          11.5    70   \n",
       "2  18.0          8         318.0        150    3436          11.0    70   \n",
       "3  16.0          8         304.0        150    3433          12.0    70   \n",
       "4  17.0          8         302.0        140    3449          10.5    70   \n",
       "\n",
       "   origin  \n",
       "0       1  \n",
       "1       1  \n",
       "2       1  \n",
       "3       1  \n",
       "4       1  "
      ]
     },
     "execution_count": 119,
     "metadata": {},
     "output_type": "execute_result"
    }
   ],
   "source": [
    "Auto2.drop(labels='name', axis=1, inplace=True)\n",
    "Auto2.head()"
   ]
  },
  {
   "cell_type": "code",
   "execution_count": 120,
   "id": "b7d96d08",
   "metadata": {},
   "outputs": [
    {
     "data": {
      "text/html": [
       "<div>\n",
       "<style scoped>\n",
       "    .dataframe tbody tr th:only-of-type {\n",
       "        vertical-align: middle;\n",
       "    }\n",
       "\n",
       "    .dataframe tbody tr th {\n",
       "        vertical-align: top;\n",
       "    }\n",
       "\n",
       "    .dataframe thead th {\n",
       "        text-align: right;\n",
       "    }\n",
       "</style>\n",
       "<table border=\"1\" class=\"dataframe\">\n",
       "  <thead>\n",
       "    <tr style=\"text-align: right;\">\n",
       "      <th></th>\n",
       "      <th>mpg</th>\n",
       "      <th>cylinders</th>\n",
       "      <th>displacement</th>\n",
       "      <th>horsepower</th>\n",
       "      <th>weight</th>\n",
       "      <th>acceleration</th>\n",
       "      <th>year</th>\n",
       "      <th>origin</th>\n",
       "    </tr>\n",
       "  </thead>\n",
       "  <tbody>\n",
       "    <tr>\n",
       "      <th>0</th>\n",
       "      <td>18.0</td>\n",
       "      <td>8.0</td>\n",
       "      <td>307.0</td>\n",
       "      <td>130</td>\n",
       "      <td>3504.0</td>\n",
       "      <td>12.0</td>\n",
       "      <td>70.0</td>\n",
       "      <td>1.0</td>\n",
       "    </tr>\n",
       "    <tr>\n",
       "      <th>1</th>\n",
       "      <td>15.0</td>\n",
       "      <td>8.0</td>\n",
       "      <td>350.0</td>\n",
       "      <td>165</td>\n",
       "      <td>3693.0</td>\n",
       "      <td>11.5</td>\n",
       "      <td>70.0</td>\n",
       "      <td>1.0</td>\n",
       "    </tr>\n",
       "    <tr>\n",
       "      <th>2</th>\n",
       "      <td>18.0</td>\n",
       "      <td>8.0</td>\n",
       "      <td>318.0</td>\n",
       "      <td>150</td>\n",
       "      <td>3436.0</td>\n",
       "      <td>11.0</td>\n",
       "      <td>70.0</td>\n",
       "      <td>1.0</td>\n",
       "    </tr>\n",
       "    <tr>\n",
       "      <th>3</th>\n",
       "      <td>16.0</td>\n",
       "      <td>8.0</td>\n",
       "      <td>304.0</td>\n",
       "      <td>150</td>\n",
       "      <td>3433.0</td>\n",
       "      <td>12.0</td>\n",
       "      <td>70.0</td>\n",
       "      <td>1.0</td>\n",
       "    </tr>\n",
       "    <tr>\n",
       "      <th>4</th>\n",
       "      <td>17.0</td>\n",
       "      <td>8.0</td>\n",
       "      <td>302.0</td>\n",
       "      <td>140</td>\n",
       "      <td>3449.0</td>\n",
       "      <td>10.5</td>\n",
       "      <td>70.0</td>\n",
       "      <td>1.0</td>\n",
       "    </tr>\n",
       "  </tbody>\n",
       "</table>\n",
       "</div>"
      ],
      "text/plain": [
       "    mpg  cylinders  displacement horsepower  weight  acceleration  year  \\\n",
       "0  18.0        8.0         307.0        130  3504.0          12.0  70.0   \n",
       "1  15.0        8.0         350.0        165  3693.0          11.5  70.0   \n",
       "2  18.0        8.0         318.0        150  3436.0          11.0  70.0   \n",
       "3  16.0        8.0         304.0        150  3433.0          12.0  70.0   \n",
       "4  17.0        8.0         302.0        140  3449.0          10.5  70.0   \n",
       "\n",
       "   origin  \n",
       "0     1.0  \n",
       "1     1.0  \n",
       "2     1.0  \n",
       "3     1.0  \n",
       "4     1.0  "
      ]
     },
     "execution_count": 120,
     "metadata": {},
     "output_type": "execute_result"
    }
   ],
   "source": [
    "Auto2['cylinders'] = Auto2.cylinders.astype(float)\n",
    "Auto2['weight'] = Auto2.weight.astype(float)\n",
    "Auto2['year'] = Auto2.year.astype(float)\n",
    "Auto2['origin'] = Auto2.origin.astype(float)\n",
    "#Auto2['horsepower'] = pd.to_numeric(Auto2['horsepower'], errors='coerce').astype(float)\n",
    "Auto2.head()"
   ]
  },
  {
   "cell_type": "code",
   "execution_count": 121,
   "id": "8eaaf5a1",
   "metadata": {},
   "outputs": [
    {
     "data": {
      "text/plain": [
       "Index(['mpg', 'cylinders', 'displacement', 'horsepower', 'weight',\n",
       "       'acceleration', 'year', 'origin'],\n",
       "      dtype='object')"
      ]
     },
     "execution_count": 121,
     "metadata": {},
     "output_type": "execute_result"
    }
   ],
   "source": [
    "Auto2.columns"
   ]
  },
  {
   "cell_type": "code",
   "execution_count": 150,
   "id": "48922bdc",
   "metadata": {},
   "outputs": [],
   "source": [
    "Auto2.columns\n",
    "Auto2_features = ['mpg','cylinders','displacement','weight','acceleration','year','origin','horsepower']\n",
    "x = Auto2[Auto2_features]\n",
    "y = Auto2"
   ]
  },
  {
   "cell_type": "code",
   "execution_count": 133,
   "id": "2774193b",
   "metadata": {},
   "outputs": [
    {
     "data": {
      "text/plain": [
       "mpg             float64\n",
       "cylinders       float64\n",
       "displacement    float64\n",
       "horsepower       object\n",
       "weight          float64\n",
       "acceleration    float64\n",
       "year            float64\n",
       "origin          float64\n",
       "dtype: object"
      ]
     },
     "execution_count": 133,
     "metadata": {},
     "output_type": "execute_result"
    }
   ],
   "source": [
    "Auto2.dtypes"
   ]
  },
  {
   "cell_type": "code",
   "execution_count": 134,
   "id": "3d2a0d99",
   "metadata": {},
   "outputs": [],
   "source": [
    "import statsmodels.api as sm\n",
    "import sklearn\n",
    "from sklearn.model_selection import train_test_split\n",
    "train_x, test_x, train_y, test_y = train_test_split(x, y, test_size=0.33, random_state=42)\n",
    "\n"
   ]
  },
  {
   "cell_type": "code",
   "execution_count": null,
   "id": "47f69bf2",
   "metadata": {},
   "outputs": [],
   "source": [
    "C.) I had to do some of the caluclations by hand since I couldn't get the linear regression to work for this postion of my notebook.\n",
    "I've found that there was a significant difference because the Pvalue is small and there are positive relationships present."
   ]
  },
  {
   "cell_type": "code",
   "execution_count": 154,
   "id": "299fa42b",
   "metadata": {},
   "outputs": [],
   "source": [
    "\n",
    "\n",
    "\n",
    "Cars['Urban']= Cars['Urban'].astype('category')\n",
    "Cars['Urban']= Cars['Urban'].cat.codes\n",
    "Cars['US']= Cars['US'].astype('category')\n",
    "Cars['US']= Cars['US'].cat.codes\n",
    "Cars['ShelveLoc']= Cars['ShelveLoc'].astype('category')\n",
    "Cars['ShelveLoc']= Cars['ShelveLoc'].cat.codes\n",
    "##had to use convert from categorical to numeric\n"
   ]
  },
  {
   "cell_type": "code",
   "execution_count": null,
   "id": "e4b2f319",
   "metadata": {},
   "outputs": [],
   "source": [
    "#######Break between "
   ]
  },
  {
   "cell_type": "code",
   "execution_count": null,
   "id": "5c6a5ab7",
   "metadata": {},
   "outputs": [],
   "source": []
  },
  {
   "cell_type": "code",
   "execution_count": 155,
   "id": "4d3dbd6d",
   "metadata": {},
   "outputs": [
    {
     "data": {
      "text/html": [
       "<div>\n",
       "<style scoped>\n",
       "    .dataframe tbody tr th:only-of-type {\n",
       "        vertical-align: middle;\n",
       "    }\n",
       "\n",
       "    .dataframe tbody tr th {\n",
       "        vertical-align: top;\n",
       "    }\n",
       "\n",
       "    .dataframe thead th {\n",
       "        text-align: right;\n",
       "    }\n",
       "</style>\n",
       "<table border=\"1\" class=\"dataframe\">\n",
       "  <thead>\n",
       "    <tr style=\"text-align: right;\">\n",
       "      <th></th>\n",
       "      <th>Sales</th>\n",
       "      <th>CompPrice</th>\n",
       "      <th>Income</th>\n",
       "      <th>Advertising</th>\n",
       "      <th>Population</th>\n",
       "      <th>Price</th>\n",
       "      <th>ShelveLoc</th>\n",
       "      <th>Age</th>\n",
       "      <th>Education</th>\n",
       "      <th>Urban</th>\n",
       "      <th>US</th>\n",
       "    </tr>\n",
       "  </thead>\n",
       "  <tbody>\n",
       "    <tr>\n",
       "      <th>0</th>\n",
       "      <td>9.50</td>\n",
       "      <td>138</td>\n",
       "      <td>73</td>\n",
       "      <td>11</td>\n",
       "      <td>276</td>\n",
       "      <td>120</td>\n",
       "      <td>0</td>\n",
       "      <td>42</td>\n",
       "      <td>17</td>\n",
       "      <td>1</td>\n",
       "      <td>1</td>\n",
       "    </tr>\n",
       "    <tr>\n",
       "      <th>1</th>\n",
       "      <td>11.22</td>\n",
       "      <td>111</td>\n",
       "      <td>48</td>\n",
       "      <td>16</td>\n",
       "      <td>260</td>\n",
       "      <td>83</td>\n",
       "      <td>1</td>\n",
       "      <td>65</td>\n",
       "      <td>10</td>\n",
       "      <td>1</td>\n",
       "      <td>1</td>\n",
       "    </tr>\n",
       "    <tr>\n",
       "      <th>2</th>\n",
       "      <td>10.06</td>\n",
       "      <td>113</td>\n",
       "      <td>35</td>\n",
       "      <td>10</td>\n",
       "      <td>269</td>\n",
       "      <td>80</td>\n",
       "      <td>2</td>\n",
       "      <td>59</td>\n",
       "      <td>12</td>\n",
       "      <td>1</td>\n",
       "      <td>1</td>\n",
       "    </tr>\n",
       "    <tr>\n",
       "      <th>3</th>\n",
       "      <td>7.40</td>\n",
       "      <td>117</td>\n",
       "      <td>100</td>\n",
       "      <td>4</td>\n",
       "      <td>466</td>\n",
       "      <td>97</td>\n",
       "      <td>2</td>\n",
       "      <td>55</td>\n",
       "      <td>14</td>\n",
       "      <td>1</td>\n",
       "      <td>1</td>\n",
       "    </tr>\n",
       "    <tr>\n",
       "      <th>4</th>\n",
       "      <td>4.15</td>\n",
       "      <td>141</td>\n",
       "      <td>64</td>\n",
       "      <td>3</td>\n",
       "      <td>340</td>\n",
       "      <td>128</td>\n",
       "      <td>0</td>\n",
       "      <td>38</td>\n",
       "      <td>13</td>\n",
       "      <td>1</td>\n",
       "      <td>0</td>\n",
       "    </tr>\n",
       "  </tbody>\n",
       "</table>\n",
       "</div>"
      ],
      "text/plain": [
       "   Sales  CompPrice  Income  Advertising  Population  Price  ShelveLoc  Age  \\\n",
       "0   9.50        138      73           11         276    120          0   42   \n",
       "1  11.22        111      48           16         260     83          1   65   \n",
       "2  10.06        113      35           10         269     80          2   59   \n",
       "3   7.40        117     100            4         466     97          2   55   \n",
       "4   4.15        141      64            3         340    128          0   38   \n",
       "\n",
       "   Education  Urban  US  \n",
       "0         17      1   1  \n",
       "1         10      1   1  \n",
       "2         12      1   1  \n",
       "3         14      1   1  \n",
       "4         13      1   0  "
      ]
     },
     "execution_count": 155,
     "metadata": {},
     "output_type": "execute_result"
    }
   ],
   "source": [
    "x = Cars.drop(columns= 'Sales', axis=1).values\n",
    "y= Cars['Sales'].values\n",
    "B = 'Sales ~ Price + Urban + US)'\n",
    "Cars.head()"
   ]
  },
  {
   "cell_type": "code",
   "execution_count": 156,
   "id": "d5cf5d1c",
   "metadata": {},
   "outputs": [],
   "source": [
    "from sklearn.model_selection import train_test_split\n",
    "x_train,x_test,y_train,y_test=train_test_split(x,y,test_size=0.3, random_state=0)\n"
   ]
  },
  {
   "cell_type": "code",
   "execution_count": 52,
   "id": "423aa896",
   "metadata": {},
   "outputs": [],
   "source": [
    "from sklearn.linear_model import LinearRegression\n",
    "ml = LinearRegression()"
   ]
  },
  {
   "cell_type": "code",
   "execution_count": 48,
   "id": "faec2b78",
   "metadata": {},
   "outputs": [],
   "source": [
    "#from sklearn.preprocessing import OneHotEncoder\n",
    "#from sklearn.compose import ColumnTransformer\n",
    "\n",
    "#categorical_features"
   ]
  },
  {
   "cell_type": "code",
   "execution_count": 157,
   "id": "0ebceefa",
   "metadata": {},
   "outputs": [
    {
     "data": {
      "text/plain": [
       "LinearRegression()"
      ]
     },
     "execution_count": 157,
     "metadata": {},
     "output_type": "execute_result"
    }
   ],
   "source": [
    "ml.fit(x_train,y_train)\n"
   ]
  },
  {
   "cell_type": "code",
   "execution_count": 56,
   "id": "983f72d9",
   "metadata": {},
   "outputs": [
    {
     "name": "stdout",
     "output_type": "stream",
     "text": [
      "[ 4.85193897 11.06680074  6.74615672  3.62309482  8.83331588  8.64572562\n",
      "  8.34913864  6.38658753  6.29829806  6.59876224  7.54128097  4.44060816\n",
      "  7.01985441 11.18987649  3.86130946  5.72289848  8.77039143  7.78368016\n",
      "  4.72876591  5.93469138  6.69817283  8.42429848  6.42112375  6.10187876\n",
      "  6.92353992 10.97133252  4.20066999  6.46171441  7.93920738  6.72172639\n",
      "  7.53942084 11.91488615  8.04864793  7.48194941  5.13155471 10.25058164\n",
      "  6.59928239  6.76804451  7.27937644  6.35454745  7.47853715  6.07920546\n",
      "  6.22511602  9.65014776  7.0693765   6.15896099  8.27842718  8.72258702\n",
      "  9.75191924 10.22357799  3.14124686  7.5049726  10.40029309 10.86344758\n",
      "  4.00809862  6.16731307  7.4605136   9.78548875  5.53150181  5.56432207\n",
      "  7.77048164 10.71815887  6.97614395  4.73526808  3.90065442  8.51545761\n",
      " 10.16782582 11.17403138  9.57810054 10.6805915   8.53347011 10.01778751\n",
      "  9.13227236  6.5453032   8.75355515  6.1370919   7.25800311  7.43873948\n",
      "  9.61142614  7.9643058   5.48204201  8.4405849   5.03761231  1.23619507\n",
      "  8.41803659 10.47619427  7.22276059  6.78011192  9.93518805 11.80583738\n",
      "  8.16039529  6.5080498  11.04080524  6.62576209 11.35368326  3.76831106\n",
      "  6.76879156  6.39107036  3.33692211  7.07336148  4.20425786  9.01161508\n",
      "  6.86660755 10.70553891  7.18555863  9.40975392  3.38265897 12.21374198\n",
      "  7.95681562  4.82197962  7.0430805   7.87108516  6.48178955  8.63382787\n",
      "  4.61198751  5.96948342  7.33681298  7.13355301  2.65857391  6.52369297]\n"
     ]
    }
   ],
   "source": [
    "y_pred=ml.predict(x_test)\n",
    "print(y_pred)\n"
   ]
  },
  {
   "cell_type": "code",
   "execution_count": 57,
   "id": "95ae1756",
   "metadata": {},
   "outputs": [],
   "source": [
    "#ml.predict([[9.50,138.0,73.0,11.0,276.0,120.0,42.0,17.0,1,1]])"
   ]
  },
  {
   "cell_type": "code",
   "execution_count": 152,
   "id": "eadb2831",
   "metadata": {},
   "outputs": [],
   "source": [
    "\n",
    "\n",
    "\n",
    "# Setup\n",
    "# import packages\n",
    "import pandas as pd\n",
    "import numpy as np\n",
    "import seaborn as sns\n",
    "\n",
    "import matplotlib as plot\n",
    "import matplotlib.mlab as mlab\n",
    "import matplotlib\n",
    "import random as rnd\n",
    "from sklearn import datasets, linear_model\n",
    "from sklearn import preprocessing\n",
    "from sklearn.feature_selection import RFE\n",
    "import socket\n",
    "from socket import socket\n",
    "import statsmodels.api as sm\n",
    "\n",
    "import seaborn as sns; sns.set()\n",
    "import matplotlib.pyplot as plt\n",
    "from mpl_toolkits.mplot3d import Axes3D\n",
    "import statsmodels.api as sm\n",
    "import statsmodels.formula.api as smf\n",
    "import patsy\n",
    "from scipy import stats\n",
    "from sklearn import datasets\n",
    "from IPython.display import display, HTML\n",
    "\n"
   ]
  },
  {
   "cell_type": "code",
   "execution_count": null,
   "id": "1c587ccd",
   "metadata": {},
   "outputs": [],
   "source": [
    "10. This question should be answered using the Carseats data set.\n",
    "\n",
    "    #(a) Fit a multiple regression model to predict Sales using Price,\n",
    "#Urban, and US.\n"
   ]
  },
  {
   "cell_type": "code",
   "execution_count": 158,
   "id": "a837a8f6",
   "metadata": {},
   "outputs": [
    {
     "name": "stdout",
     "output_type": "stream",
     "text": [
      "                            OLS Regression Results                            \n",
      "==============================================================================\n",
      "Dep. Variable:                  Sales   R-squared:                       0.239\n",
      "Model:                            OLS   Adj. R-squared:                  0.234\n",
      "Method:                 Least Squares   F-statistic:                     41.52\n",
      "Date:                Sun, 19 Feb 2023   Prob (F-statistic):           2.39e-23\n",
      "Time:                        11:41:51   Log-Likelihood:                -927.66\n",
      "No. Observations:                 400   AIC:                             1863.\n",
      "Df Residuals:                     396   BIC:                             1879.\n",
      "Df Model:                           3                                         \n",
      "Covariance Type:            nonrobust                                         \n",
      "==============================================================================\n",
      "                 coef    std err          t      P>|t|      [0.025      0.975]\n",
      "------------------------------------------------------------------------------\n",
      "Intercept     13.0435      0.651     20.036      0.000      11.764      14.323\n",
      "Price         -0.0545      0.005    -10.389      0.000      -0.065      -0.044\n",
      "Urban         -0.0219      0.272     -0.081      0.936      -0.556       0.512\n",
      "US             1.2006      0.259      4.635      0.000       0.691       1.710\n",
      "==============================================================================\n",
      "Omnibus:                        0.676   Durbin-Watson:                   1.912\n",
      "Prob(Omnibus):                  0.713   Jarque-Bera (JB):                0.758\n",
      "Skew:                           0.093   Prob(JB):                        0.684\n",
      "Kurtosis:                       2.897   Cond. No.                         628.\n",
      "==============================================================================\n",
      "\n",
      "Notes:\n",
      "[1] Standard Errors assume that the covariance matrix of the errors is correctly specified.\n"
     ]
    }
   ],
   "source": [
    "\n",
    "datatypes = {'quant': ['Sales', 'CompPrice', 'Income', 'Advertising', 'Population', 'Price', 'Age', 'Education'],\n",
    "             'qual': ['ShelveLoc', 'Urban', 'US']}\n",
    "# Use floats for all quantitive values\n",
    "quants = Cars[datatypes['quant']].astype(np.float_)\n",
    "Cars_df = pd.concat([quants, Cars[datatypes['qual']]], axis=1)\n",
    "\n",
    "B = 'Sales ~ Price + Urban + US'\n",
    "y, x = patsy.dmatrices(B, Cars_df, return_type='matrix')\n",
    "\n",
    "\n",
    "model = sm.OLS(y, x).fit()\n",
    "predictions = model.predict(x) \n",
    " \n",
    "print_model = model.summary()\n",
    "print(print_model)\n",
    "\n",
    "\n",
    "####\n"
   ]
  },
  {
   "cell_type": "markdown",
   "id": "045c399e",
   "metadata": {},
   "source": [
    "    (b) Provide an interpretation of each coefficient in the model. Be\n",
    "careful—some of the variables in the model are qualitative!\n",
    "You can see from the figures below that, if all other factors remain constant with regard to growth rate, there is a decline. Per sold unit, that decline comes to around 54.459. Thus, there will eventually be a decline in sales whenever prices are raised. \n",
    "Also, the regression model notes that the US outsold other markets by 1200."
   ]
  },
  {
   "cell_type": "markdown",
   "id": "ab3e1e91",
   "metadata": {},
   "source": [
    "(c) Write out the model in equation form, being careful to handle the qualitative variables properly.\n",
    "\n",
    "Sales=13.04−0.05∗Price−0.02∗UrbanYes+1.2∗USYes\n"
   ]
  },
  {
   "cell_type": "markdown",
   "id": "bb869b61",
   "metadata": {},
   "source": [
    "(d) For which of the predictors can you reject the null hypothesis H0 :βj =0?\n",
    " Us & Price due to their significance. "
   ]
  },
  {
   "cell_type": "markdown",
   "id": "6d29f54a",
   "metadata": {},
   "source": [
    "(e) On the basis of your response to the previous question, fit a smaller model that only uses the predictors for which there is evidence of association with the outcome."
   ]
  },
  {
   "cell_type": "code",
   "execution_count": 128,
   "id": "faccbc0e",
   "metadata": {},
   "outputs": [
    {
     "name": "stdout",
     "output_type": "stream",
     "text": [
      "                            OLS Regression Results                            \n",
      "==============================================================================\n",
      "Dep. Variable:                  Sales   R-squared:                       0.239\n",
      "Model:                            OLS   Adj. R-squared:                  0.235\n",
      "Method:                 Least Squares   F-statistic:                     62.43\n",
      "Date:                Sun, 19 Feb 2023   Prob (F-statistic):           2.66e-24\n",
      "Time:                        04:45:13   Log-Likelihood:                -927.66\n",
      "No. Observations:                 400   AIC:                             1861.\n",
      "Df Residuals:                     397   BIC:                             1873.\n",
      "Df Model:                           2                                         \n",
      "Covariance Type:            nonrobust                                         \n",
      "==============================================================================\n",
      "                 coef    std err          t      P>|t|      [0.025      0.975]\n",
      "------------------------------------------------------------------------------\n",
      "Intercept     13.0308      0.631     20.652      0.000      11.790      14.271\n",
      "Price         -0.0545      0.005    -10.416      0.000      -0.065      -0.044\n",
      "US             1.1996      0.258      4.641      0.000       0.692       1.708\n",
      "==============================================================================\n",
      "Omnibus:                        0.666   Durbin-Watson:                   1.912\n",
      "Prob(Omnibus):                  0.717   Jarque-Bera (JB):                0.749\n",
      "Skew:                           0.092   Prob(JB):                        0.688\n",
      "Kurtosis:                       2.895   Cond. No.                         607.\n",
      "==============================================================================\n",
      "\n",
      "Notes:\n",
      "[1] Standard Errors assume that the covariance matrix of the errors is correctly specified.\n"
     ]
    }
   ],
   "source": [
    "B = 'Sales ~ Price + US'\n",
    "y, x = patsy.dmatrices(B, Cars_df, return_type='dataframe')\n",
    "\n",
    "model2 = sm.OLS(y, x).fit()\n",
    "predictions = model.predict(x) \n",
    " \n",
    "print_model2 = model.summary()\n",
    "print(print_model)\n",
    "\n",
    "\n",
    "####"
   ]
  },
  {
   "cell_type": "code",
   "execution_count": 84,
   "id": "fd72386e",
   "metadata": {},
   "outputs": [],
   "source": [
    "#skipped this portinon as I do not have an Rstatisic to go off of. "
   ]
  },
  {
   "cell_type": "markdown",
   "id": "0612cbc4",
   "metadata": {},
   "source": [
    "(g) Using the model from (e), obtain 95% confidence intervals for the coefficient(s)."
   ]
  },
  {
   "cell_type": "code",
   "execution_count": 85,
   "id": "338b3681",
   "metadata": {},
   "outputs": [
    {
     "data": {
      "text/html": [
       "<div>\n",
       "<style scoped>\n",
       "    .dataframe tbody tr th:only-of-type {\n",
       "        vertical-align: middle;\n",
       "    }\n",
       "\n",
       "    .dataframe tbody tr th {\n",
       "        vertical-align: top;\n",
       "    }\n",
       "\n",
       "    .dataframe thead th {\n",
       "        text-align: right;\n",
       "    }\n",
       "</style>\n",
       "<table border=\"1\" class=\"dataframe\">\n",
       "  <thead>\n",
       "    <tr style=\"text-align: right;\">\n",
       "      <th></th>\n",
       "      <th>min.</th>\n",
       "      <th>max.</th>\n",
       "    </tr>\n",
       "  </thead>\n",
       "  <tbody>\n",
       "    <tr>\n",
       "      <th>Intercept</th>\n",
       "      <td>11.79032</td>\n",
       "      <td>14.271265</td>\n",
       "    </tr>\n",
       "    <tr>\n",
       "      <th>Price</th>\n",
       "      <td>-0.06476</td>\n",
       "      <td>-0.044195</td>\n",
       "    </tr>\n",
       "    <tr>\n",
       "      <th>US</th>\n",
       "      <td>0.69152</td>\n",
       "      <td>1.707766</td>\n",
       "    </tr>\n",
       "  </tbody>\n",
       "</table>\n",
       "</div>"
      ],
      "text/plain": [
       "               min.       max.\n",
       "Intercept  11.79032  14.271265\n",
       "Price      -0.06476  -0.044195\n",
       "US          0.69152   1.707766"
      ]
     },
     "execution_count": 85,
     "metadata": {},
     "output_type": "execute_result"
    }
   ],
   "source": [
    "Conf_95 = model.conf_int(alpha=0.05)\n",
    "\n",
    "\n",
    "Conf_95.rename(index=str, columns={0: \"min.\", 1: \"max.\",})"
   ]
  },
  {
   "cell_type": "markdown",
   "id": "665f70cd",
   "metadata": {},
   "source": [
    " (h) Is there evidence of outliers or high leverage observations in the model from (e)?\n",
    "There was one observation. "
   ]
  },
  {
   "cell_type": "markdown",
   "id": "871b57df",
   "metadata": {},
   "source": [
    "12. This problem involves simple linear regression without an intercept.\n",
    "\n",
    "(a) Recall that the coefficient estimate βˆ for the linear regression of Y onto X without an intercept is given by (3.38). Under what circumstance is the coefficient estimate for the regression of X onto Y the same as the coefficient estimate for the regression of Y onto X?\n",
    "\n",
    "\n",
    "∑i=1nx2i=∑i=1ny2i\n",
    "\n",
    "B=1"
   ]
  },
  {
   "cell_type": "code",
   "execution_count": 114,
   "id": "4b82cf33",
   "metadata": {},
   "outputs": [
    {
     "data": {
      "image/png": "[encoded data removed]",
      "text/plain": [
       "<Figure size 432x288 with 1 Axes>"
      ]
     },
     "metadata": {
      "needs_background": "light"
     },
     "output_type": "display_data"
    }
   ],
   "source": [
    "#(b) Generate an example in R with n = 100 observations in which the coefficient estimate for the regression of X onto Y is different from the coefficient estimate for the regression of Y onto X.\n",
    "import matplotlib.pyplot as plt\n",
    "\n",
    "\n",
    "np.random.seed(1)\n",
    "x = np.random.normal(size=100)\n",
    "y = x*5\n",
    "Random= pd.DataFrame({'x': x, 'y': y})\n",
    "plt.scatter(x, y)\n",
    "plt.show()\n"
   ]
  },
  {
   "cell_type": "code",
   "execution_count": 107,
   "id": "cecbc38c",
   "metadata": {},
   "outputs": [
    {
     "name": "stdout",
     "output_type": "stream",
     "text": [
      "Intercept   -6.938894e-17\n",
      "x            1.200000e+00\n",
      "dtype: float64\n",
      "Intercept   -9.020562e-17\n",
      "y            8.333333e-01\n",
      "dtype: float64\n"
     ]
    }
   ],
   "source": [
    "model2 = smf.ols(formula='y ~ x', data=df).fit()\n",
    "model3 = smf.ols(formula='x ~ y', data=df).fit()\n",
    "\n",
    "print(model2.params)\n",
    "print(model3.params)"
   ]
  },
  {
   "cell_type": "code",
   "execution_count": null,
   "id": "2293c1de",
   "metadata": {},
   "outputs": [],
   "source": [
    "#skipped this one as well "
   ]
  }
 ],
 "metadata": {
  "kernelspec": {
   "display_name": "Python 3 (ipykernel)",
   "language": "python",
   "name": "python3"
  },
  "language_info": {
   "codemirror_mode": {
    "name": "ipython",
    "version": 3
   },
   "file_extension": ".py",
   "mimetype": "text/x-python",
   "name": "python",
   "nbconvert_exporter": "python",
   "pygments_lexer": "ipython3",
   "version": "3.9.12"
  }
 },
 "nbformat": 4,
 "nbformat_minor": 5
}
